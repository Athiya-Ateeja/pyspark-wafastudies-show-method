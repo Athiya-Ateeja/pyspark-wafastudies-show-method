{
 "cells": [
  {
   "cell_type": "code",
   "execution_count": 0,
   "metadata": {
    "application/vnd.databricks.v1+cell": {
     "cellMetadata": {
      "byteLimit": 2048000,
      "rowLimit": 10000
     },
     "inputWidgets": {},
     "nuid": "eb978527-f9cb-4761-bdfd-0e0a557d44ed",
     "showTitle": false,
     "title": ""
    }
   },
   "outputs": [
    {
     "output_type": "stream",
     "name": "stdout",
     "output_type": "stream",
     "text": [
      "+---+--------------------+\n| Id|             comment|\n+---+--------------------+\n|  1|fjkfjkjkjsafkjdlk...|\n|  2|djdfjdhfjhfkjhakh...|\n|  3|       nfjiri4r94ir9|\n|  4|            mkmkfmrk|\n+---+--------------------+\n\n"
     ]
    }
   ],
   "source": [
    "\n",
    "data = [(1 , 'fjkfjkjkjsafkjdlkasjflkjlfjajfl'),\n",
    "        (2 , 'djdfjdhfjhfkjhakhjdhkhkah'),\n",
    "        (3 , 'nfjiri4r94ir9'),\n",
    "        (4 , 'mkmkfmrk')]\n",
    "schema = ['Id' , 'comment']\n",
    "df = spark.createDataFrame(data = data , schema = schema)\n",
    "df.show()"
   ]
  },
  {
   "cell_type": "code",
   "execution_count": 0,
   "metadata": {
    "application/vnd.databricks.v1+cell": {
     "cellMetadata": {
      "byteLimit": 2048000,
      "rowLimit": 10000
     },
     "inputWidgets": {},
     "nuid": "d0dc3e58-4506-4a42-ba03-8c8c31781153",
     "showTitle": false,
     "title": ""
    }
   },
   "outputs": [
    {
     "output_type": "stream",
     "name": "stdout",
     "output_type": "stream",
     "text": [
      "+---+-------------------------------+\n|Id |comment                        |\n+---+-------------------------------+\n|1  |fjkfjkjkjsafkjdlkasjflkjlfjajfl|\n|2  |djdfjdhfjhfkjhakhjdhkhkah      |\n|3  |nfjiri4r94ir9                  |\n|4  |mkmkfmrk                       |\n+---+-------------------------------+\n\n"
     ]
    }
   ],
   "source": [
    "df.show(truncate = False)"
   ]
  },
  {
   "cell_type": "code",
   "execution_count": 0,
   "metadata": {
    "application/vnd.databricks.v1+cell": {
     "cellMetadata": {
      "byteLimit": 2048000,
      "rowLimit": 10000
     },
     "inputWidgets": {},
     "nuid": "f6016fb4-ae83-403f-87ec-8cf9b24cd2f9",
     "showTitle": false,
     "title": ""
    }
   },
   "outputs": [
    {
     "output_type": "stream",
     "name": "stdout",
     "output_type": "stream",
     "text": [
      "+---+--------+\n| Id| comment|\n+---+--------+\n|  1|fjkfj...|\n|  2|djdfj...|\n|  3|nfjir...|\n|  4|mkmkfmrk|\n+---+--------+\n\n"
     ]
    }
   ],
   "source": [
    "df.show(truncate= 8)"
   ]
  },
  {
   "cell_type": "code",
   "execution_count": 0,
   "metadata": {
    "application/vnd.databricks.v1+cell": {
     "cellMetadata": {
      "byteLimit": 2048000,
      "rowLimit": 10000
     },
     "inputWidgets": {},
     "nuid": "b52e373f-1c29-49b2-bbf5-7b3463bc9740",
     "showTitle": false,
     "title": ""
    }
   },
   "outputs": [
    {
     "output_type": "stream",
     "name": "stdout",
     "output_type": "stream",
     "text": [
      "+---+-------------------------------+\n|Id |comment                        |\n+---+-------------------------------+\n|1  |fjkfjkjkjsafkjdlkasjflkjlfjajfl|\n|2  |djdfjdhfjhfkjhakhjdhkhkah      |\n+---+-------------------------------+\nonly showing top 2 rows\n\n"
     ]
    }
   ],
   "source": [
    "df.show(n=2 , truncate = False)"
   ]
  },
  {
   "cell_type": "code",
   "execution_count": 0,
   "metadata": {
    "application/vnd.databricks.v1+cell": {
     "cellMetadata": {
      "byteLimit": 2048000,
      "rowLimit": 10000
     },
     "inputWidgets": {},
     "nuid": "0b8bac4d-8f85-4305-8535-71374ff1fc08",
     "showTitle": false,
     "title": ""
    }
   },
   "outputs": [
    {
     "output_type": "stream",
     "name": "stdout",
     "output_type": "stream",
     "text": [
      "-RECORD 0----------------------------------\n Id      | 1                               \n comment | fjkfjkjkjsafkjdlkasjflkjlfjajfl \n-RECORD 1----------------------------------\n Id      | 2                               \n comment | djdfjdhfjhfkjhakhjdhkhkah       \n-RECORD 2----------------------------------\n Id      | 3                               \n comment | nfjiri4r94ir9                   \n-RECORD 3----------------------------------\n Id      | 4                               \n comment | mkmkfmrk                        \n\n"
     ]
    }
   ],
   "source": [
    "df.show(n = 4, truncate = False, vertical=True)"
   ]
  }
 ],
 "metadata": {
  "application/vnd.databricks.v1+notebook": {
   "dashboards": [],
   "language": "python",
   "notebookMetadata": {
    "pythonIndentUnit": 4
   },
   "notebookName": "show_method",
   "widgets": {}
  }
 },
 "nbformat": 4,
 "nbformat_minor": 0
}
